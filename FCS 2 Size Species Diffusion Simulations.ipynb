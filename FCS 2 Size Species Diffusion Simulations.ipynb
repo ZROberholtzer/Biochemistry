{
 "cells": [
  {
   "cell_type": "code",
   "execution_count": 1,
   "metadata": {},
   "outputs": [
    {
     "data": {
      "image/png": "[encoded data removed]",
      "text/plain": [
       "<Figure size 432x288 with 1 Axes>"
      ]
     },
     "metadata": {
      "needs_background": "light"
     },
     "output_type": "display_data"
    },
    {
     "name": "stdout",
     "output_type": "stream",
     "text": [
      "175.49705455247624 350.9941091049525 8.46314482481144e-11 4.23157241240572e-11 0.0010143270293179693\n"
     ]
    }
   ],
   "source": [
    "# %%timeit\n",
    "# %lprun\n",
    "import numpy as np\n",
    "import pandas as pd\n",
    "import matplotlib.pyplot as plt\n",
    "import math\n",
    "from scipy.optimize import curve_fit\n",
    "from scipy.constants import pi\n",
    "from scipy.constants import k as kb\n",
    "import csv\n",
    "\n",
    "#import data so i have a lag time array to use\n",
    "testdata=pd.read_csv('200425_40nm_A647_6_avg_w_std_dev.txt', sep='\\t', header=0)  #read in tab seperated txt file\n",
    "testdata=testdata.rename(columns={\"Lag Time (s)\": \"tau\", \"Correlation  \": \"g_tau\"})  #rename columns\n",
    "testdata['tau']=pd.to_numeric(testdata['tau'])  #convert imported data to number format\n",
    "testdata['g_tau']=pd.to_numeric(testdata['g_tau'])  #convert imported to number format\n",
    "testdata['Std Dev']=pd.to_numeric(testdata['Std Dev'])\n",
    "testdata.dropna(inplace=True)  #drops any Not a Number rows NaN. \n",
    "#truncate data subtracting out <1.2us\n",
    "data_truncated = testdata[testdata['tau'] >= 1.2 *10**-6] \n",
    "#data_truncated.plot(kind='scatter', x='tau', y='g_tau')\n",
    "\n",
    "\n",
    "\"\"\"\n",
    "G(tau)=G_diff(tau)*G_trip(tau)\n",
    "G_diff=f1**2 * g_1(tau) + f2**2 * g_2(tau) + ... where 1=Sum(fi) so for a two component system f2=1-f1\n",
    "g_i(tau)=1/N *(1/(1+tau/tau_D)*1/(sqrt(1+s*tau/tau_D)))\n",
    "\n",
    "G_trip(tau)=1+T(1-T)*e**(tau/tau_trip)\n",
    "\n",
    "\n",
    "Fit parameters: tau_D, s, N, T, tau_trip, (if two component, tau_D2 and f1)\n",
    "s can be fixed to 5 or 7 NOTE though that they are using 1/s in the G_diff functional form \n",
    "this is stated in the basic FCS zeiss recommendation manual. No idea where that number comes from.  for now let vary free\n",
    "additionally they have an alpha anomaly factor that idk where it comes from.\n",
    "\"\"\"\n",
    "\n",
    "# G(Tau) w 2-component diffusion and triplet state \n",
    "def auto_correlation_2c(tau, tau_D1, tau_D2, f1, s, N, T, tau_trip):\n",
    "    G_diff1=1/N *(1/(1+tau/tau_D1))*(1/(np.sqrt(1+(s**2)*tau/tau_D1)))\n",
    "    G_diff2=1/N *(1/(1+tau/tau_D2))*(1/(np.sqrt(1+(s**2)*tau/tau_D2)))\n",
    "    G_trip=1+T/(1-T)*np.exp(-tau/tau_trip)\n",
    "    G_tau=1+(f1*G_diff1 + (1-f1)*G_diff2)*G_trip\n",
    "    return G_tau\n",
    "#is tau_trip known/estimated for A647?  check empirical data\n",
    "\n",
    "#Stokes Einstein Relationship\n",
    "#D=kb*Temp/(6pi * eta * r) , kb=boltzman constant, T=temp, eta=dynamic viscosity, r=radius\n",
    "#Typically we calculate D from tau_D but in this case will calculate tau_D from D\n",
    "#tau_D=omega^2/4*D  get omega estimate from empiracal data for PBS and serum\n",
    "#so design of script will be choose two radii -> calculate respective tau_D1 and tau_D2 simulate various mixture ratios use ratio to calculate N\n",
    "#test effect of N as well?  what is a normal N look like?\n",
    "\n",
    "\n",
    "# Define Buffer/Matrix Properties\n",
    "Temp=293  #kelvin\n",
    "viscosity_pbs=0.00166857949052026*math.exp(1878.13233998426/Temp)*10**-3 #Viscosity of PBS\n",
    "viscosity_serum=0.0035705587930264*math.exp(1822.37546953649/Temp)*10**-3 #Viscosity of serum\n",
    "\n",
    "\n",
    "\n",
    "#Empirical estimates of confocal volume\n",
    "omega_PBS=2.4374224*10**-7 \n",
    "omega_Serum=2.7619016*10**-7\n",
    "\n",
    "\n",
    "#Define particle properties\n",
    "r_1=5*10**-9 #m radius 1\n",
    "r_2=10*10**-9 #m radius 2\n",
    "D_1=kb*Temp/(6*pi*viscosity_pbs*r_1/2)\n",
    "D_2=kb*Temp/(6*pi*viscosity_pbs*r_2/2)\n",
    "tau_D1=omega_PBS**2 / (4*D_1)\n",
    "tau_D2=omega_PBS**2 / (4*D_2)\n",
    "\n",
    "#Estimates for triplet state\n",
    "T=0.3 #estimated triplet state fraction\n",
    "tau_trip=2.5*10**-6 #us\n",
    "\n",
    "\n",
    "#initialization parameters\n",
    "s=7 #structure parameter use recommended s=5 or 7\n",
    "N=10\n",
    "f1=[0, 0.25, 0.5, 0.75, 1]\n",
    "xdata=list(data_truncated['tau'])\n",
    "csv_export_df=pd.DataFrame({'Tau':xdata})\n",
    "for i in f1:\n",
    "    f1_param=i\n",
    "    plt.plot(data_truncated['tau'], auto_correlation_2c(data_truncated['tau'], tau_D1, tau_D2, f1_param, s, N, T, tau_trip), label=f1_param)\n",
    "    filename='Radius_' + str(round(r_1*10**9)) + 'nm_vs_' + str(round(r_2*10**9)) + 'nm' + \"_population_component_1_\" + str(f1)\n",
    "    ydata=list(auto_correlation_2c(data_truncated['tau'], tau_D1, tau_D2, f1_param, s, N, T, tau_trip))\n",
    "    ydata_name='G(tau)_'+'population_comp1_' + str(f1_param)\n",
    "    csv_export_df[ydata_name]=ydata\n",
    "filename='Radius_' + str(round(r_1*10**9)) + 'nm_vs_' + str(round(r_2*10**9)) + 'nm'\n",
    "csv_export_df.to_csv(filename, index=False)\n",
    "\n",
    "#df.to_csv(r'Path where you want to store the exported CSV file\\File Name.csv', index = False)  format for export\n",
    "\n",
    "\n",
    "#     ydata=list(auto_correlation_2c(data_truncated['tau'], tau_D1, tau_D2, f1_param, s, N, T, tau_trip))\n",
    "    \n",
    "#     with open(filename, 'w', newline='') as f:\n",
    "#     fieldnames=['Tau', 'G(tau)']\n",
    "#     thewriter=csv.DictWriter(f, fieldnames=fieldnames)\n",
    "#     thewriter.writeheader()\n",
    "#     thewriter.writerow({'Tau':data_truncated['tau'], 'G(tau)':auto_correlation_2c(data_truncated['tau'], tau_D1, tau_D2, f1_param, s, N, T, tau_trip)})\n",
    "\n",
    "#Convert plot to log X plot and add legend, axis labels, display plot\n",
    "plot_name='Radius ' + str(round(r_1*10**9, 1)) + 'nm vs ' + str(round(r_2*10**9, 1)) + 'nm'\n",
    "plt.title(plot_name)\n",
    "plt.xlabel('tau')\n",
    "plt.xscale('log')\n",
    "plt.xlim(10**-6, 10**0)\n",
    "plt.ylabel('G(tau)')\n",
    "plt.legend(title=\"Fraction Species 1\")\n",
    "plt.show()\n",
    "    \n",
    "    \n",
    "print(tau_D1*10**6,tau_D2*10**6, D_1, D_2, viscosity_pbs)\n",
    "\n",
    "# filename='Radius_' + str(round(r_1*10**9)) + 'nm_vs_' + str(round(r_2*10**9)) + 'nm' + \"_population_component_1_\" + str(f1)\n",
    "# # xdata=list(data_truncated['tau'])\n",
    "# ydata=list(auto_correlation_2c(data_truncated['tau'], tau_D1, tau_D2, f1_param, s, N, T, tau_trip))\n",
    "# ydata_name='G(tau)_'+'population_comp1_\" + str(f1_param)\n",
    "# csv_exprot_df=pd.DataFrame('Tau':xdata, ydata_name:ydata)"
   ]
  },
  {
   "cell_type": "code",
   "execution_count": 4,
   "metadata": {},
   "outputs": [
    {
     "name": "stdout",
     "output_type": "stream",
     "text": [
      "Radius_5nm_vs_10nm\n"
     ]
    },
    {
     "data": {
      "text/plain": [
       "str"
      ]
     },
     "execution_count": 4,
     "metadata": {},
     "output_type": "execute_result"
    }
   ],
   "source": [
    "filename='Radius_' + str(round(r_1*10**9)) + 'nm_vs_' + str(round(r_2*10**9)) + 'nm'\n",
    "print(filename)\n",
    "type(filename)"
   ]
  },
  {
   "cell_type": "code",
   "execution_count": 5,
   "metadata": {},
   "outputs": [
    {
     "name": "stdout",
     "output_type": "stream",
     "text": [
      "          Tau  G(tau)_population_comp1_0  G(tau)_population_comp1_0.25  \\\n",
      "0    0.000001                   1.116692                      1.114708   \n",
      "1    0.000001                   1.113399                      1.111227   \n",
      "2    0.000002                   1.110339                      1.108006   \n",
      "3    0.000002                   1.107494                      1.105020   \n",
      "4    0.000002                   1.104845                      1.102247   \n",
      "..        ...                        ...                           ...   \n",
      "150  0.629146                   1.000000                      1.000000   \n",
      "151  0.681574                   1.000000                      1.000000   \n",
      "152  0.734003                   1.000000                      1.000000   \n",
      "153  0.786432                   1.000000                      1.000000   \n",
      "154  0.838861                   1.000000                      1.000000   \n",
      "\n",
      "     G(tau)_population_comp1_0.5  G(tau)_population_comp1_0.75  \\\n",
      "0                       1.112724                      1.110739   \n",
      "1                       1.109056                      1.106885   \n",
      "2                       1.105673                      1.103340   \n",
      "3                       1.102546                      1.100071   \n",
      "4                       1.099649                      1.097052   \n",
      "..                           ...                           ...   \n",
      "150                     1.000000                      1.000000   \n",
      "151                     1.000000                      1.000000   \n",
      "152                     1.000000                      1.000000   \n",
      "153                     1.000000                      1.000000   \n",
      "154                     1.000000                      1.000000   \n",
      "\n",
      "     G(tau)_population_comp1_1  \n",
      "0                     1.108755  \n",
      "1                     1.104714  \n",
      "2                     1.101006  \n",
      "3                     1.097597  \n",
      "4                     1.094454  \n",
      "..                         ...  \n",
      "150                   1.000000  \n",
      "151                   1.000000  \n",
      "152                   1.000000  \n",
      "153                   1.000000  \n",
      "154                   1.000000  \n",
      "\n",
      "[155 rows x 6 columns]\n"
     ]
    }
   ],
   "source": [
    "print(csv_export_df)"
   ]
  },
  {
   "cell_type": "code",
   "execution_count": 12,
   "metadata": {},
   "outputs": [],
   "source": [
    "#df.to_csv(r'Path where you want to store the exported CSV file\\File Name.csv', index = False)\n",
    "csv_export_df.to_csv(r'\\\\regeneron.regn.com\\grpdata\\tar\\Development\\ProBio\\Personnel\\ZRO\\Temp Empower Files\\Radius_5nm_vs_10nm.csv', index=False)"
   ]
  },
  {
   "cell_type": "code",
   "execution_count": null,
   "metadata": {},
   "outputs": [],
   "source": []
  }
 ],
 "metadata": {
  "kernelspec": {
   "display_name": "Python 3",
   "language": "python",
   "name": "python3"
  },
  "language_info": {
   "codemirror_mode": {
    "name": "ipython",
    "version": 3
   },
   "file_extension": ".py",
   "mimetype": "text/x-python",
   "name": "python",
   "nbconvert_exporter": "python",
   "pygments_lexer": "ipython3",
   "version": "3.8.5"
  }
 },
 "nbformat": 4,
 "nbformat_minor": 4
}
